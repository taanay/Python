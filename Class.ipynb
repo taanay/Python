{
 "cells": [
  {
   "cell_type": "code",
   "execution_count": 3,
   "metadata": {},
   "outputs": [
    {
     "name": "stdout",
     "output_type": "stream",
     "text": [
      "init method called\n",
      "init method called\n",
      "Tanay\n",
      "Satyam\n"
     ]
    }
   ],
   "source": [
    "class Person:\n",
    "    \n",
    "    def __init__(self,fname,lname,age): #self is nothing but our object\n",
    "        print(\"init method called\")\n",
    "        #instance variable\n",
    "        self.fname = fname   \n",
    "        self.lname = lname\n",
    "        self.age = age\n",
    "    \n",
    "p1 = Person(\"Tanay\",\"Patidar\",20) #object 1\n",
    "p2 = Person(\"Satyam\",\"Solanki\",21)#object 2\n",
    "\n",
    "print(p1.fname)\n",
    "print(p2.fname)\n",
    "\n",
    "#list is our python inbuilt class we name object of that class (ex:obj: l1 : [ 2,3,4,7]:l1 is object of inbuilt class list)"
   ]
  },
  {
   "cell_type": "code",
   "execution_count": 8,
   "metadata": {},
   "outputs": [
    {
     "name": "stdout",
     "output_type": "stream",
     "text": [
      "Your laptop Name is :  lenovo yoga50\n"
     ]
    }
   ],
   "source": [
    "# practice\n",
    "class Laptop:\n",
    "    \n",
    "    def __init__(self,brand,name,price):\n",
    "        #instance variable\n",
    "        self.brand = brand\n",
    "        self.name = name\n",
    "        self.price = price\n",
    "        self.laptopname = brand + ' ' + name\n",
    "\n",
    "laptop1 = Laptop('lenovo','yoga50',49500)\n",
    "print(\"Your laptop Name is : \",laptop1.laptopname)"
   ]
  },
  {
   "cell_type": "code",
   "execution_count": null,
   "metadata": {},
   "outputs": [],
   "source": []
  },
  {
   "cell_type": "code",
   "execution_count": 18,
   "metadata": {},
   "outputs": [
    {
     "name": "stdout",
     "output_type": "stream",
     "text": [
      "Enter your Name :tanay\n",
      "Enter Last Name :  patidar\n",
      "Enter your age : 12\n",
      "tanay patidar\n",
      "False\n"
     ]
    }
   ],
   "source": [
    "# instance method\n",
    "# function inside class are called methods\n",
    "class Person:\n",
    "    \n",
    "    def __init__(self,fname,lname,age):\n",
    "        #instance variable\n",
    "        self.fname = fname\n",
    "        self.lname = lname\n",
    "        self.age = age\n",
    "    \n",
    "    def fullname(self):\n",
    "        return f\"{self.fname} {self.lname}\"\n",
    "    \n",
    "    def above_18(self):#self is mendatory for every class method\n",
    "        return self.age>18\n",
    "    \n",
    "name = input(\"Enter your Name :\")\n",
    "last_name = input(\"Enter Last Name :  \")\n",
    "age = int(input(\"Enter your age : \"))\n",
    "p1 = Person(name,last_name,age)\n",
    "print(p1.fullname())\n",
    "print(p1.above_18())  \n",
    "\n",
    "#internal working of : p1.fullname() == Person.fullname(p1)\n",
    "\n",
    "# l1 = [2,3,4,5]\n",
    "#l1.pop()\n",
    "#p1.fullname()\n",
    "#as we have pop method for list class same ullname method for Person class"
   ]
  },
  {
   "cell_type": "code",
   "execution_count": 20,
   "metadata": {},
   "outputs": [
    {
     "name": "stdout",
     "output_type": "stream",
     "text": [
      "After discount price is : 58500.0\n",
      "After discount price is : 52110.0\n"
     ]
    }
   ],
   "source": [
    "# class variable\n",
    "class Laptop:\n",
    "    \n",
    "    #class variable\n",
    "    dis = 10 #this is class variable in which discount is fixed\n",
    "    \n",
    "    def __init__(self,company,model,price):\n",
    "        self.company = company\n",
    "        self.model = model\n",
    "        self.price = price\n",
    "        \n",
    "    def discount(self):\n",
    "        disprice = (Laptop.dis/100)*self.price #naming of class avriable : classname = classvariable\n",
    "        disprice = self.price - disprice\n",
    "        print(\"After discount price is :\",disprice)\n",
    "    \n",
    "L1 = Laptop(\"lenovo\",\"yoga50\",65000)\n",
    "L2 = Laptop(\"Dell\",\"Dtc600\",57900)\n",
    "L1.discount()\n",
    "L2.discount()\n",
    "\n",
    "# problem : discount for all laptop will be same "
   ]
  },
  {
   "cell_type": "code",
   "execution_count": 28,
   "metadata": {},
   "outputs": [
    {
     "name": "stdout",
     "output_type": "stream",
     "text": [
      "After discount price is : 45000.0\n",
      "After discount price is : 180000.0\n",
      "After discount price is : 50000.0\n",
      "{'company': 'lenovo', 'model': 'yoga50', 'price': 50000}\n",
      "{'company': 'Apple', 'model': 'mac book pro', 'price': 200000}\n",
      "{'company': 'Dell', 'model': 'Dtc600', 'price': 100000, 'dis': 50}\n"
     ]
    }
   ],
   "source": [
    "# important == to remove above problem\n",
    "class Laptop:\n",
    "    \n",
    "    #class variable\n",
    "    dis = 10 #name = value : this is class variable in which discount is fixed\n",
    "    \n",
    "    def __init__(self,company,model,price):\n",
    "        self.company = company\n",
    "        self.model = model\n",
    "        self.price = price\n",
    "        \n",
    "    def discount(self):\n",
    "        disprice = (self.dis/100)*self.price #replacing laptop.dis(classname.classvariable) with self.dis(self.classvariabl)\n",
    "        disprice = self.price - disprice\n",
    "        print(\"After discount price is :\",disprice)\n",
    "\n",
    "# laptop.dis = 30 #replce the above discount value\n",
    "laptop1 = Laptop(\"lenovo\",\"yoga50\",50000) #only 10% discount\n",
    "laptop2 = Laptop(\"Apple\",\"mac book pro\",200000)#only 10% discount\n",
    "laptop3 = Laptop(\"Dell\",\"Dtc600\",100000)\n",
    "\n",
    "laptop3.dis = 50 #if we want special discount on Laptop3 :object.classvariable = value(discount %) it get stored in dictionary \n",
    "                                                         #as object of L3 i.e. in laptop3.__dict__ = {...,...,{dis : 50}}\n",
    "laptop1.discount()#10%\n",
    "laptop2.discount()#10%\n",
    "laptop3.discount()#50%\n",
    "\n",
    "print(laptop1.__dict__) #return dictionary of all the object L1 has\n",
    "print(laptop2.__dict__)\n",
    "print(laptop3.__dict__)"
   ]
  },
  {
   "cell_type": "code",
   "execution_count": 8,
   "metadata": {},
   "outputs": [
    {
     "name": "stdout",
     "output_type": "stream",
     "text": [
      "Total Number of Instance or Object Created : 3\n"
     ]
    }
   ],
   "source": [
    "# how to count number of obj/instance created\n",
    "class Person:\n",
    "    \n",
    "    count_instance = 0 #class variable\n",
    "    \n",
    "    def __init__(self,fname,lname,age):\n",
    "        \n",
    "        Person.count_instance += 1 #incrementing class variable by 1\n",
    "        \n",
    "        self.fname = fname\n",
    "        self.lname = lname\n",
    "        self.age = age\n",
    "        \n",
    "p1 = Person('tanay','patidar',21)\n",
    "p2 = Person('yaman','patidar',23)\n",
    "p3 = Person('manish','patidar',25)\n",
    "\n",
    "print(f\"Total Number of Instance or Object Created : {Person.count_instance}\")"
   ]
  },
  {
   "cell_type": "code",
   "execution_count": 5,
   "metadata": {},
   "outputs": [
    {
     "name": "stdout",
     "output_type": "stream",
     "text": [
      "there are 3877 cases in Madhya Pradesh\n",
      "there are 19037 cases in Maharastra\n",
      "There are 2 entries for covid under class Covid\n"
     ]
    }
   ],
   "source": [
    "# class Method\n",
    "class Covid:\n",
    "    \n",
    "    clscounter = 0\n",
    "    \n",
    "    def __init__(self,state,cases):\n",
    "        \n",
    "        Covid.clscounter +=1\n",
    "        \n",
    "        self.state = state\n",
    "        self.cases = cases\n",
    "        \n",
    "    @classmethod #decorator for defining class function\n",
    "    def number_entries(cls):\n",
    "        print(f\"There are {cls.clscounter} entries for covid under class {cls.__name__}\")\n",
    "         #class function end\n",
    "    \n",
    "    def entries(self):\n",
    "        print(f\"there are {self.cases} cases in {self.state}\")\n",
    "\n",
    "c1 = Covid('Madhya Pradesh',3877)\n",
    "c2 = Covid('Maharastra',19037)\n",
    "c1.entries()\n",
    "c2.entries()\n",
    "Covid.number_entries()#calling class function via class name we can also call it with object name : c1.number_entries       "
   ]
  },
  {
   "cell_type": "code",
   "execution_count": 15,
   "metadata": {},
   "outputs": [
    {
     "name": "stdout",
     "output_type": "stream",
     "text": [
      "This is normal function inside class Student\n"
     ]
    }
   ],
   "source": [
    "# static method :normal function inside class\n",
    "class Student:\n",
    "    \n",
    "    def __init__(self,name,age):\n",
    "        self.name = name\n",
    "        self.age = age\n",
    "    \n",
    "    @staticmethod\n",
    "    def Staticcls():\n",
    "        print(f\"This is normal function inside class Student\")\n",
    "        \n",
    "s1 = Student(\"tanay\",21)\n",
    "print(s1.name)\n",
    "Student.Staticcls()"
   ]
  },
  {
   "cell_type": "code",
   "execution_count": 5,
   "metadata": {},
   "outputs": [
    {
     "name": "stdout",
     "output_type": "stream",
     "text": [
      "from parent class : oneplus 5 price is 30000\n",
      "from parent class : calling... 9999999999\n"
     ]
    }
   ],
   "source": [
    "# Inheritance\n",
    "\n",
    "class Phone(): #base_class / Parent\n",
    "    def __init__(self, brand, modelname, price):\n",
    "        self.brand = brand\n",
    "        self.modelname = modelname\n",
    "        self.price = max(price,0) #either the price will be 'price' or '0' but cant be negative\n",
    "        \n",
    "    def fullname(self):\n",
    "        return f\"{self.brand} {self.modelname} price is {self.price}\"\n",
    "    \n",
    "    def makecall(self,number):\n",
    "        return f\"calling... {number}\"\n",
    "    \n",
    "class Smartphone(Phone): #derived_class / child\n",
    "    def __init__(self, brand, modelname, price, ram, rearcamera):\n",
    "        super().__init__(brand, modelname, price)\n",
    "        self.ram = ram\n",
    "        self.rearcamera = rearcamera\n",
    "        \n",
    "smart1 = Smartphone('oneplus', 5, 30000, 8, 16)\n",
    "print('from parent class :',smart1.fullname())\n",
    "print('from parent class :',smart1.makecall(9999999999))"
   ]
  },
  {
   "cell_type": "code",
   "execution_count": 7,
   "metadata": {},
   "outputs": [],
   "source": [
    "# Herirarchical inheritance\n",
    "\n",
    "#         phone class \n",
    "#        /          \\\n",
    "#    smartphone   smartphone2 \n",
    "# single parent we can inherited by multiple child class"
   ]
  },
  {
   "cell_type": "code",
   "execution_count": 8,
   "metadata": {},
   "outputs": [
    {
     "data": {
      "text/plain": [
       "'apple SE2 price is 47500'"
      ]
     },
     "execution_count": 8,
     "metadata": {},
     "output_type": "execute_result"
    }
   ],
   "source": [
    "# multilevel inheritance :\n",
    "\n",
    "class Phone(): #base_class / Parent\n",
    "    def __init__(self, brand, modelname, price):\n",
    "        self.brand = brand\n",
    "        self.modelname = modelname\n",
    "        self.price = max(price,0) #either the price will be 'price' or '0' but cant be negative\n",
    "        \n",
    "    def fullname(self):\n",
    "        return f\"{self.brand} {self.modelname} price is {self.price}\"\n",
    "    \n",
    "    def makecall(self,number):\n",
    "        return f\"calling... {number}\"\n",
    "                                                                                              \n",
    "class Smartphone(Phone): #derived_class / child                                           \n",
    "    def __init__(self, brand, modelname, price, ram, rearcamera):\n",
    "        super().__init__(brand, modelname, price)\n",
    "        self.ram = ram\n",
    "        self.rearcamera = rearcamera\n",
    "        \n",
    "class Flagshiphone(Smartphone):\n",
    "    def __init__(self, brand, modelname, price, ram, rearcamera, frontcamera):\n",
    "        super().__init__(brand, modelname, price, ram, rearcamera)\n",
    "        self.frontcamera = frontcamera\n",
    "        \n",
    "flag = Flagshiphone('apple', 'SE2', 47500, 4, 12, 8)\n",
    "flag.fullname()\n",
    "\n",
    "# PHONE\n",
    "# |\n",
    "# SMARTPHONE\n",
    "# |\n",
    "# FLAGSHIPHONE"
   ]
  },
  {
   "cell_type": "code",
   "execution_count": null,
   "metadata": {},
   "outputs": [],
   "source": []
  }
 ],
 "metadata": {
  "kernelspec": {
   "display_name": "Python 3",
   "language": "python",
   "name": "python3"
  },
  "language_info": {
   "codemirror_mode": {
    "name": "ipython",
    "version": 3
   },
   "file_extension": ".py",
   "mimetype": "text/x-python",
   "name": "python",
   "nbconvert_exporter": "python",
   "pygments_lexer": "ipython3",
   "version": "3.7.6"
  }
 },
 "nbformat": 4,
 "nbformat_minor": 4
}
