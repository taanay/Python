{
 "cells": [
  {
   "cell_type": "code",
   "execution_count": 1,
   "metadata": {},
   "outputs": [
    {
     "name": "stdout",
     "output_type": "stream",
     "text": [
      "[(0, 'tanay'), (1, 'yaman'), (2, 'manish'), (3, 23), (4, True), (5, None)]\n",
      "<class 'list'>\n",
      "4\n"
     ]
    }
   ],
   "source": [
    "list1 = ['tanay','yaman','manish',23,True,None]\n",
    "num = [12,3,4,5545,6,76,2]\n",
    "print(list(enumerate(list1)))#display list with index\n",
    "print(type(num))\n",
    "print(num[2])"
   ]
  },
  {
   "cell_type": "code",
   "execution_count": 15,
   "metadata": {},
   "outputs": [
    {
     "data": {
      "text/plain": [
       "['tanay', 45, 556, 'hello', 6]"
      ]
     },
     "execution_count": 15,
     "metadata": {},
     "output_type": "execute_result"
    }
   ],
   "source": [
    "num = [12,3,4,5545,6,76,2,['tanay',45,556,'hello',6]]\n",
    "num[2]\n",
    "num[1:5]\n",
    "num[-1]\n",
    "num[-1]"
   ]
  },
  {
   "cell_type": "code",
   "execution_count": 12,
   "metadata": {},
   "outputs": [
    {
     "data": {
      "text/plain": [
       "[2, 5, 4, 3, 78, 5, 544, 4]"
      ]
     },
     "execution_count": 12,
     "metadata": {},
     "output_type": "execute_result"
    }
   ],
   "source": [
    "num1=[2,5,4,3]\n",
    "num2=[78,5,544,4]\n",
    "num1+num2"
   ]
  },
  {
   "cell_type": "code",
   "execution_count": 18,
   "metadata": {},
   "outputs": [
    {
     "name": "stdout",
     "output_type": "stream",
     "text": [
      "['tanay', 'yaman', 'yash', 'anunay']\n",
      "[25, 56, 7, 3, 90, 1]\n"
     ]
    }
   ],
   "source": [
    "big_list=['tanay','yaman','yash','anunay',25,56,7,3,90,1]\n",
    "name = big_list[0:4] #or big_list[:4]\n",
    "number = big_list[4:]\n",
    "print(name)\n",
    "print(number)"
   ]
  },
  {
   "cell_type": "code",
   "execution_count": 19,
   "metadata": {},
   "outputs": [
    {
     "name": "stdout",
     "output_type": "stream",
     "text": [
      "10\n"
     ]
    }
   ],
   "source": [
    "# len function\n",
    "big_list=['tanay','yaman','yash','anunay',25,56,7,3,90,1]\n",
    "print(len(big_list))"
   ]
  },
  {
   "cell_type": "code",
   "execution_count": 20,
   "metadata": {},
   "outputs": [
    {
     "name": "stdout",
     "output_type": "stream",
     "text": [
      "['tanay', 'tanmay', 'tarun', 'tanishq']\n"
     ]
    }
   ],
   "source": [
    "# replacing specific index value in list\n",
    "name = ['tanay','tanmay','tarun','satyam']\n",
    "name[3] = 'tanishq'\n",
    "print(name)"
   ]
  },
  {
   "cell_type": "code",
   "execution_count": 21,
   "metadata": {},
   "outputs": [
    {
     "name": "stdout",
     "output_type": "stream",
     "text": [
      "[1, 3, 4, 7, 9, 3]\n"
     ]
    }
   ],
   "source": [
    "# del element in list\n",
    "list1 = [1,3,4,56,7,9,3]\n",
    "del list1[3]\n",
    "print(list1)"
   ]
  },
  {
   "cell_type": "code",
   "execution_count": 22,
   "metadata": {},
   "outputs": [
    {
     "name": "stdout",
     "output_type": "stream",
     "text": [
      "[1, 3, 4]\n"
     ]
    }
   ],
   "source": [
    "list1 = [1,3,4,56,7,9,3]\n",
    "del list1[3:]\n",
    "print(list1)"
   ]
  },
  {
   "cell_type": "code",
   "execution_count": 23,
   "metadata": {},
   "outputs": [
    {
     "data": {
      "text/plain": [
       "True"
      ]
     },
     "execution_count": 23,
     "metadata": {},
     "output_type": "execute_result"
    }
   ],
   "source": [
    "list = ['this','is','tanay']\n",
    "'is' in list"
   ]
  },
  {
   "cell_type": "code",
   "execution_count": 4,
   "metadata": {},
   "outputs": [
    {
     "name": "stdout",
     "output_type": "stream",
     "text": [
      "numpy\n",
      "matplot\n",
      "scipy\n",
      "panda\n"
     ]
    }
   ],
   "source": [
    "list = ['numpy','matplot','scipy','panda']\n",
    "for lib in (list):\n",
    "    print(lib)"
   ]
  },
  {
   "cell_type": "code",
   "execution_count": 5,
   "metadata": {},
   "outputs": [
    {
     "data": {
      "text/plain": [
       "1"
      ]
     },
     "execution_count": 5,
     "metadata": {},
     "output_type": "execute_result"
    }
   ],
   "source": [
    "list.index('matplot')"
   ]
  },
  {
   "cell_type": "code",
   "execution_count": 6,
   "metadata": {},
   "outputs": [
    {
     "name": "stdout",
     "output_type": "stream",
     "text": [
      "['numpy', 'matplot', 'scipy', 'panda', 'TensorFlow']\n"
     ]
    }
   ],
   "source": [
    "list = ['numpy','matplot','scipy','panda']\n",
    "list.append('TensorFlow')#always append at the end\n",
    "print(list)"
   ]
  },
  {
   "cell_type": "code",
   "execution_count": 8,
   "metadata": {},
   "outputs": [
    {
     "name": "stdout",
     "output_type": "stream",
     "text": [
      "['numpy', 'matplot', 'tickinter', 'scipy', 'panda']\n"
     ]
    }
   ],
   "source": [
    "list = ['numpy','matplot','scipy','panda']\n",
    "list.insert(2,'tickinter')#to add element at specific position(#2=index,tickinter=element)\n",
    "print(list)"
   ]
  },
  {
   "cell_type": "code",
   "execution_count": 10,
   "metadata": {},
   "outputs": [
    {
     "name": "stdout",
     "output_type": "stream",
     "text": [
      "['numpy', 'matplot', 'scipy']\n"
     ]
    }
   ],
   "source": [
    "list = ['numpy','matplot','scipy','panda']\n",
    "list.remove('panda')\n",
    "print(list)"
   ]
  },
  {
   "cell_type": "code",
   "execution_count": 14,
   "metadata": {},
   "outputs": [
    {
     "name": "stdout",
     "output_type": "stream",
     "text": [
      "[-23, -3, -1, 0, 1, 2, 3, 4, 6, 7, 9, 52]\n"
     ]
    }
   ],
   "source": [
    "num_list = [3,6,4,1,7,9,52,0,2,-23,-3,-1]\n",
    "num_list.sort()#work on same type of data\n",
    "print(num_list)"
   ]
  },
  {
   "cell_type": "code",
   "execution_count": 16,
   "metadata": {},
   "outputs": [
    {
     "name": "stdout",
     "output_type": "stream",
     "text": [
      "['A', 'Bb', 'd', 'r', 'v', 'y', 'z']\n"
     ]
    }
   ],
   "source": [
    "str_list = ['v','d','r','y','A','z','Bb']\n",
    "str_list.sort()\n",
    "print(str_list)"
   ]
  },
  {
   "cell_type": "code",
   "execution_count": 17,
   "metadata": {},
   "outputs": [
    {
     "data": {
      "text/plain": [
       "['hello', 'this', 'is', 'tanay']"
      ]
     },
     "execution_count": 17,
     "metadata": {},
     "output_type": "execute_result"
    }
   ],
   "source": [
    "string = \"hello this is tanay\"\n",
    "string.split()#returns list"
   ]
  },
  {
   "cell_type": "code",
   "execution_count": 6,
   "metadata": {},
   "outputs": [
    {
     "data": {
      "text/plain": [
       "['t', 'h', 'i', 's', ' ', 'i', 's', ' ', 't', 'a', 'n', 'a', 'y']"
      ]
     },
     "execution_count": 6,
     "metadata": {},
     "output_type": "execute_result"
    }
   ],
   "source": [
    "string = (\"this is tanay\")\n",
    "list_from_string = list(string)\n",
    "list_from_string"
   ]
  },
  {
   "cell_type": "code",
   "execution_count": 1,
   "metadata": {},
   "outputs": [
    {
     "name": "stdout",
     "output_type": "stream",
     "text": [
      "[1, 4, 9, 16]\n"
     ]
    }
   ],
   "source": [
    "# list Comprihension\n",
    "l1 = [1,2,3,4]\n",
    "l2 = [x**2 for x in l1]\n",
    "print(l2)"
   ]
  },
  {
   "cell_type": "code",
   "execution_count": 6,
   "metadata": {},
   "outputs": [
    {
     "name": "stdout",
     "output_type": "stream",
     "text": [
      "[0, 4, 16, 36, 64, 100, 144, 196, 256, 324, 400]\n"
     ]
    }
   ],
   "source": [
    "num = range(21)\n",
    "l2 = [x**2 for x in num if x%2==0]\n",
    "print(l2)"
   ]
  },
  {
   "cell_type": "code",
   "execution_count": null,
   "metadata": {},
   "outputs": [],
   "source": []
  },
  {
   "cell_type": "code",
   "execution_count": null,
   "metadata": {},
   "outputs": [],
   "source": []
  }
 ],
 "metadata": {
  "kernelspec": {
   "display_name": "Python 3",
   "language": "python",
   "name": "python3"
  },
  "language_info": {
   "codemirror_mode": {
    "name": "ipython",
    "version": 3
   },
   "file_extension": ".py",
   "mimetype": "text/x-python",
   "name": "python",
   "nbconvert_exporter": "python",
   "pygments_lexer": "ipython3",
   "version": "3.7.6"
  }
 },
 "nbformat": 4,
 "nbformat_minor": 4
}
