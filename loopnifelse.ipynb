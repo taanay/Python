{
 "cells": [
  {
   "cell_type": "code",
   "execution_count": 2,
   "metadata": {},
   "outputs": [
    {
     "name": "stdout",
     "output_type": "stream",
     "text": [
      "enter the value4\n",
      "you entered 4\n"
     ]
    }
   ],
   "source": [
    "# Ninja(String Formating)\n",
    "a = int(input(\"enter the value\"))\n",
    "print(f'you entered {a}')"
   ]
  },
  {
   "cell_type": "code",
   "execution_count": 6,
   "metadata": {},
   "outputs": [
    {
     "name": "stdout",
     "output_type": "stream",
     "text": [
      "Enter the number-4\n",
      "-4 is smaller than zero\n"
     ]
    }
   ],
   "source": [
    "# udmey(if elif)\n",
    "a=int(input(\"Enter the number : \"))\n",
    "\n",
    "if a>0:\n",
    "    print(f\"{a} is greater than zero\")\n",
    "elif a==0:\n",
    "    print(f\"Number is equal to {a}\")\n",
    "else:\n",
    "    print(f\"{a} is smaller than zero\")"
   ]
  },
  {
   "cell_type": "code",
   "execution_count": 11,
   "metadata": {},
   "outputs": [
    {
     "name": "stdout",
     "output_type": "stream",
     "text": [
      "tanay\n",
      "manish\n",
      "yaman -- is mukati\n"
     ]
    }
   ],
   "source": [
    "# Ninja(use of break)\n",
    "ninjas = [\"tanay\",\"manish\",\"yaman\",\"anunay\"]\n",
    "for ninja in ninjas:\n",
    "    if ninja=='yaman':\n",
    "        print(f\"{ninja} -- is mukati\")\n",
    "        break\n",
    "    else:\n",
    "        print(ninja)"
   ]
  },
  {
   "cell_type": "code",
   "execution_count": 2,
   "metadata": {},
   "outputs": [
    {
     "name": "stdout",
     "output_type": "stream",
     "text": [
      "please enter the num greater than zero : 5\n",
      "1\n",
      "3\n"
     ]
    }
   ],
   "source": [
    "# Ninja(use of continue)\n",
    "a=int(input(\"please enter the num greater than zero : \"))\n",
    "num=0\n",
    "while num<a:\n",
    "    if num%2==0:\n",
    "        num +=1\n",
    "        continue\n",
    "    print(num)\n",
    "    num +=1"
   ]
  },
  {
   "cell_type": "code",
   "execution_count": 2,
   "metadata": {},
   "outputs": [
    {
     "name": "stdout",
     "output_type": "stream",
     "text": [
      "Enter the Password :tanay\n",
      "Enter Your password : 232343\n",
      "Enter Your password : helloworld\n",
      "Access\n"
     ]
    }
   ],
   "source": [
    "# udmey(while loop password checker)\n",
    "input_password = input(\"Enter the Password :\")\n",
    "password = \"helloworld\"\n",
    "while input_password != password:\n",
    "    input_password = input(\"Enter the password : \")\n",
    "    if input_password == password:\n",
    "        print(\"Access\")"
   ]
  },
  {
   "cell_type": "code",
   "execution_count": 1,
   "metadata": {},
   "outputs": [
    {
     "name": "stdout",
     "output_type": "stream",
     "text": [
      "Enter the passwordtanay\n",
      "Enter the passwordhello world\n",
      "Enter the passwordTomhardy\n",
      "Enter the passwordTomHardy\n",
      "Correct Password !\n",
      "Access Granted! \n"
     ]
    }
   ],
   "source": [
    "# udmey(while TRUE loop password checker)\n",
    "password = \"TomHardy\"\n",
    "while True:\n",
    "    inputed_password = input(\"Enter the password : \")\n",
    "    if inputed_password == password:\n",
    "        print(\"Correct Password !\")\n",
    "        print(\"Access Granted! \")\n",
    "        break"
   ]
  },
  {
   "cell_type": "code",
   "execution_count": 3,
   "metadata": {},
   "outputs": [
    {
     "name": "stdout",
     "output_type": "stream",
     "text": [
      "0\n",
      "1\n",
      "2\n",
      "3\n",
      "4\n"
     ]
    }
   ],
   "source": [
    "# ninja(for loop range)\n",
    "for n in range(5):\n",
    "    print(n)"
   ]
  },
  {
   "cell_type": "code",
   "execution_count": 5,
   "metadata": {},
   "outputs": [
    {
     "name": "stdout",
     "output_type": "stream",
     "text": [
      "0\n",
      "1\n",
      "2\n",
      "3\n",
      "4\n",
      "5\n"
     ]
    }
   ],
   "source": [
    "for n in range(0,6):\n",
    "    print(n)"
   ]
  },
  {
   "cell_type": "code",
   "execution_count": 6,
   "metadata": {},
   "outputs": [
    {
     "name": "stdout",
     "output_type": "stream",
     "text": [
      "0\n",
      "3\n",
      "6\n",
      "9\n"
     ]
    }
   ],
   "source": [
    "# program to print table o any num\n",
    "for n in range(0,10,3):\n",
    "    print(n)"
   ]
  },
  {
   "cell_type": "code",
   "execution_count": 9,
   "metadata": {},
   "outputs": [
    {
     "name": "stdout",
     "output_type": "stream",
     "text": [
      "8\n",
      "7\n",
      "6\n",
      "5\n",
      "4\n",
      "3\n",
      "2\n",
      "1\n"
     ]
    }
   ],
   "source": [
    "for x in range(8,0,-1):\n",
    "    print(x)"
   ]
  },
  {
   "cell_type": "code",
   "execution_count": 14,
   "metadata": {},
   "outputs": [
    {
     "name": "stdout",
     "output_type": "stream",
     "text": [
      "0 tanay\n",
      "1 yaman\n",
      "2 manish\n",
      "3 anunay\n",
      "4 tanmay\n"
     ]
    }
   ],
   "source": [
    "names = [\"tanay\",\"yaman\",\"manish\",\"anunay\",\"tanmay\"]\n",
    "for x in range(len(names)):\n",
    "    print(x,names[x])"
   ]
  },
  {
   "cell_type": "code",
   "execution_count": 17,
   "metadata": {},
   "outputs": [
    {
     "name": "stdout",
     "output_type": "stream",
     "text": [
      "4 tanmay\n",
      "3 anunay\n",
      "2 manish\n",
      "1 yaman\n",
      "0 tanay\n"
     ]
    }
   ],
   "source": [
    "names = [\"tanay\",\"yaman\",\"manish\",\"anunay\",\"tanmay\"]\n",
    "for x in range(len(names)-1,-1,-1):\n",
    "    print(x,names[x])"
   ]
  },
  {
   "cell_type": "code",
   "execution_count": 2,
   "metadata": {},
   "outputs": [
    {
     "name": "stdout",
     "output_type": "stream",
     "text": [
      "a\n",
      "b\n",
      "c\n"
     ]
    }
   ],
   "source": [
    "names = [\"a\",\"b\",\"c\"]\n",
    "for x in range(len(names)):\n",
    "    print(names[x])"
   ]
  },
  {
   "cell_type": "code",
   "execution_count": null,
   "metadata": {},
   "outputs": [],
   "source": []
  }
 ],
 "metadata": {
  "kernelspec": {
   "display_name": "Python 3",
   "language": "python",
   "name": "python3"
  },
  "language_info": {
   "codemirror_mode": {
    "name": "ipython",
    "version": 3
   },
   "file_extension": ".py",
   "mimetype": "text/x-python",
   "name": "python",
   "nbconvert_exporter": "python",
   "pygments_lexer": "ipython3",
   "version": "3.7.6"
  }
 },
 "nbformat": 4,
 "nbformat_minor": 4
}
