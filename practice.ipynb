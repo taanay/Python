{
 "cells": [
  {
   "cell_type": "code",
   "execution_count": 8,
   "metadata": {},
   "outputs": [
    {
     "name": "stdout",
     "output_type": "stream",
     "text": [
      "4\n",
      " Not Weird \n"
     ]
    }
   ],
   "source": [
    "# practice 1\n",
    "n = int(input())\n",
    "if n%2==0:\n",
    "    if 2<=n<=5:\n",
    "        print(\"Not Weird \")\n",
    "    elif 6<=n<=20:\n",
    "        print(\"Weird\")\n",
    "    elif n>20:\n",
    "        print(\"Not Weird\")\n",
    "else:\n",
    "    print(\"Weird\")"
   ]
  },
  {
   "cell_type": "code",
   "execution_count": 9,
   "metadata": {},
   "outputs": [
    {
     "name": "stdout",
     "output_type": "stream",
     "text": [
      "3\n",
      "4\n",
      "7.0\n",
      "-1.0\n",
      "12.0\n"
     ]
    }
   ],
   "source": [
    "# practice 2\n",
    "a=int(input())\n",
    "b=int(input())\n",
    "print(a+b)\n",
    "print(a-b)\n",
    "print(a*b)"
   ]
  },
  {
   "cell_type": "code",
   "execution_count": 11,
   "metadata": {},
   "outputs": [
    {
     "name": "stdout",
     "output_type": "stream",
     "text": [
      "4\n",
      "3\n",
      "1\n",
      "1.3333333333333333\n"
     ]
    }
   ],
   "source": [
    "# problrm 3\n",
    "a=int(input())\n",
    "b=int(input())\n",
    "print(a//b)\n",
    "print(a/b)"
   ]
  },
  {
   "cell_type": "code",
   "execution_count": 16,
   "metadata": {},
   "outputs": [
    {
     "name": "stdout",
     "output_type": "stream",
     "text": [
      "5\n",
      "0\n",
      "1\n",
      "4\n",
      "9\n",
      "16\n"
     ]
    }
   ],
   "source": [
    "# problem 4\n",
    "N=int(input())\n",
    "for i in range(N):\n",
    "    x=i*i\n",
    "    i+=1\n",
    "    print(x)\n"
   ]
  },
  {
   "cell_type": "code",
   "execution_count": 1,
   "metadata": {},
   "outputs": [
    {
     "name": "stdout",
     "output_type": "stream",
     "text": [
      "5\n",
      "1 2 3 4 5 "
     ]
    }
   ],
   "source": [
    "# problem 5 (imp)\n",
    "N=int(input())\n",
    "for i in range(1,N+1):\n",
    "    print(i,end='')"
   ]
  },
  {
   "cell_type": "code",
   "execution_count": 7,
   "metadata": {},
   "outputs": [
    {
     "name": "stdout",
     "output_type": "stream",
     "text": [
      "2000\n",
      "False\n"
     ]
    }
   ],
   "source": [
    "# leap year\n",
    "y = int(input())\n",
    "def leap_year():   \n",
    "    if (y%4==0 and y%100!=0):\n",
    "        return True\n",
    "#         print(\"year is leap year\")\n",
    "    elif y%100==0:\n",
    "        return False\n",
    "#         print(\"not leap year\")\n",
    "    elif y%400==0:\n",
    "        return True\n",
    "#         print(\"year is leap year\")\n",
    "    else:\n",
    "        return False\n",
    "#         print(\"not leap year\")\n",
    "\n",
    "leap_year()\n",
    "print(leap_year())"
   ]
  },
  {
   "cell_type": "code",
   "execution_count": 8,
   "metadata": {},
   "outputs": [
    {
     "name": "stdout",
     "output_type": "stream",
     "text": [
      "hello world\n",
      "hello-world\n"
     ]
    }
   ],
   "source": [
    "# split join\n",
    "\n",
    "def splitjoin():\n",
    "    string1 = \"hello world\"\n",
    "    print(string1)\n",
    "    string1 = string1.split()\n",
    "    string1 = \"-\".join(string1)\n",
    "    print(string1)\n",
    "splitjoin()\n"
   ]
  },
  {
   "cell_type": "markdown",
   "metadata": {},
   "source": []
  },
  {
   "cell_type": "markdown",
   "metadata": {},
   "source": []
  },
  {
   "cell_type": "code",
   "execution_count": 2,
   "metadata": {},
   "outputs": [
    {
     "name": "stdout",
     "output_type": "stream",
     "text": [
      "Enter the no of participants :  4\n",
      "enter the score of participants : \n",
      "45\n",
      "67\n",
      "78\n",
      "89\n",
      "The Runner Up score is :  78\n"
     ]
    }
   ],
   "source": [
    "### find the runner up score\n",
    "n = int(input(\"Enter the no of participants :  \"))\n",
    "l1 = []\n",
    "print(\"enter the score of participants : \")\n",
    "for n in range(0,n):\n",
    "    a = int(input())\n",
    "    l1.append(a)\n",
    "# print(l1)\n",
    "\n",
    "def runner(l1):\n",
    "    l1.sort() #sort the inputed array\n",
    "    l2 = []\n",
    "    l2 = tuple(l1) #remove the duplicates\n",
    "    for second in l2:\n",
    "        if second == l2[-2]:\n",
    "            print(\"The Runner Up score is : \",second)\n",
    "runner(l1)"
   ]
  },
  {
   "cell_type": "code",
   "execution_count": null,
   "metadata": {},
   "outputs": [],
   "source": [
    "# palandrom number\n",
    "num = int(input(\"Enter The Number : \"))\n",
    "num = str(num)\n",
    "if num>'0':\n",
    "    rev = num[::-1]\n",
    "#     print(rev)\n",
    "    if num == rev:\n",
    "        print(\"The Entered Number is Palandrom\")\n",
    "    else:\n",
    "        print(\"The Number is Not Palandrom\")\n",
    "else:\n",
    "    print(\"You Entered Wrong Number\")"
   ]
  },
  {
   "cell_type": "code",
   "execution_count": 11,
   "metadata": {},
   "outputs": [
    {
     "name": "stdout",
     "output_type": "stream",
     "text": [
      "How many terms : 23\n",
      "0 1 1 2 3 5 8 13 21 34 55 89 144 233 377 610 987 1597 2584 4181 6765 10946 17711 "
     ]
    }
   ],
   "source": [
    "# fabanochi serise\n",
    "n = int(input(\"How many terms : \"))\n",
    "n1,n2=0,1\n",
    "if n == 0:\n",
    "    print(\"Please Enter a positive Number\")\n",
    "elif n == 1:\n",
    "    print(f\"the fananochi serise is : {n}\")\n",
    "else:\n",
    "    for num in range(0,n):  \n",
    "        print(n1,end = ' ')\n",
    "        nth = n1 +n2\n",
    "        n1 = n2\n",
    "        n2 = nth"
   ]
  },
  {
   "cell_type": "code",
   "execution_count": 7,
   "metadata": {},
   "outputs": [
    {
     "name": "stdout",
     "output_type": "stream",
     "text": [
      "After discount price is : 39000.0\n",
      "After discount price is : 46320.0\n"
     ]
    }
   ],
   "source": [
    "# class\n",
    "class laptop:\n",
    "    \n",
    "    def __init__(self,company,model,price):\n",
    "        self.company = company\n",
    "        self.model = model\n",
    "        self.price = price\n",
    "        \n",
    "    def discount(self,dis):\n",
    "        if dis<100:\n",
    "            disprice = (dis/100)*self.price\n",
    "            disprice = self.price - disprice\n",
    "            print(\"After discount price is :\",disprice)\n",
    "        else :\n",
    "            print(\"not discountable\")\n",
    "    \n",
    "L1 = laptop(\"lenovo\",\"yoga50\",65000)\n",
    "L2 = laptop(\"Dell\",\"Dtc600\",57900)\n",
    "L1.discount(40)\n",
    "L2.discount(20)"
   ]
  },
  {
   "cell_type": "code",
   "execution_count": 2,
   "metadata": {},
   "outputs": [
    {
     "name": "stdout",
     "output_type": "stream",
     "text": [
      " Enter 'q' to quit  \n",
      " Enter 'Add' to add element and print data\n",
      "Enter your Choice : Tanay\n",
      "Wrong Choice !\n",
      "Enter your Choice : Add\n",
      "Enter First name : Tanay\n",
      "Enter Last name : patidar\n",
      "Hello Tanay patidar you Belong to Computer Science\n",
      "Enter your Choice : q\n"
     ]
    }
   ],
   "source": [
    "class Person:\n",
    "    \n",
    "    pbranch = 'Computer Science'\n",
    "    \n",
    "    def __init__(self,fname,lname):\n",
    "        self.fname = fname\n",
    "        self.lname = lname\n",
    "    \n",
    "    def detail(self):\n",
    "        print(f\"Hello {self.fname} {self.lname} Welcome to {Person.pbranch}\")\n",
    "\n",
    "print(\" Enter 'q' to quit  \\n Enter 'Add' to add element and print data\")\n",
    "\n",
    "while True:\n",
    "    inp = input(\"Enter your Choice : \")\n",
    "    if inp == 'q':\n",
    "        break\n",
    "    elif inp == 'Add':\n",
    "        fname = input(\"Enter First name : \")\n",
    "        lname = input(\"Enter Last name : \")\n",
    "        person = Person(fname,lname)\n",
    "\n",
    "        person.detail()\n",
    "        \n",
    "    else : \n",
    "        print(\"Wrong Choice !\")\n",
    "        "
   ]
  },
  {
   "cell_type": "code",
   "execution_count": null,
   "metadata": {},
   "outputs": [],
   "source": []
  }
 ],
 "metadata": {
  "kernelspec": {
   "display_name": "Python 3",
   "language": "python",
   "name": "python3"
  },
  "language_info": {
   "codemirror_mode": {
    "name": "ipython",
    "version": 3
   },
   "file_extension": ".py",
   "mimetype": "text/x-python",
   "name": "python",
   "nbconvert_exporter": "python",
   "pygments_lexer": "ipython3",
   "version": "3.7.6"
  }
 },
 "nbformat": 4,
 "nbformat_minor": 4
}
