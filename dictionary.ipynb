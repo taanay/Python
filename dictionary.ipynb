{
 "cells": [
  {
   "cell_type": "code",
   "execution_count": 1,
   "metadata": {},
   "outputs": [
    {
     "data": {
      "text/plain": [
       "dict"
      ]
     },
     "execution_count": 1,
     "metadata": {},
     "output_type": "execute_result"
    }
   ],
   "source": [
    "our_dictionary = {'one':1,'two':2,'three':3}\n",
    "type(our_dictionary)"
   ]
  },
  {
   "cell_type": "code",
   "execution_count": 2,
   "metadata": {},
   "outputs": [
    {
     "data": {
      "text/plain": [
       "2"
      ]
     },
     "execution_count": 2,
     "metadata": {},
     "output_type": "execute_result"
    }
   ],
   "source": [
    "our_dictionary = {'one':1,'two':2,'three':3}\n",
    "our_dictionary['two']"
   ]
  },
  {
   "cell_type": "code",
   "execution_count": 4,
   "metadata": {},
   "outputs": [
    {
     "name": "stdout",
     "output_type": "stream",
     "text": [
      "There are 3 glasses on the table.\n"
     ]
    }
   ],
   "source": [
    "our_dictionary = {'one':1,'two':2,'three':3}\n",
    "print(f\"There are {our_dictionary['three']} glasses on the table.\")#key returns value"
   ]
  },
  {
   "cell_type": "code",
   "execution_count": 7,
   "metadata": {},
   "outputs": [
    {
     "name": "stdout",
     "output_type": "stream",
     "text": [
      "20\n",
      "22\n",
      "24\n",
      "34\n"
     ]
    }
   ],
   "source": [
    "age_dict = {'tanay':20,'yaman':22, 'atul':24, 'tapan':34}\n",
    "for value in age_dict.values():\n",
    "    print(value)"
   ]
  },
  {
   "cell_type": "code",
   "execution_count": 8,
   "metadata": {},
   "outputs": [
    {
     "name": "stdout",
     "output_type": "stream",
     "text": [
      "tanay\n",
      "yaman\n",
      "atul\n",
      "tapan\n"
     ]
    }
   ],
   "source": [
    "age_dict = {'tanay':20,'yaman':22, 'atul':24, 'tapan':34}\n",
    "for key in age_dict.keys():\n",
    "    print(key)"
   ]
  },
  {
   "cell_type": "code",
   "execution_count": 9,
   "metadata": {},
   "outputs": [
    {
     "name": "stdout",
     "output_type": "stream",
     "text": [
      "('tanay', 20)\n",
      "('yaman', 22)\n",
      "('atul', 24)\n",
      "('tapan', 34)\n"
     ]
    }
   ],
   "source": [
    "age_dict = {'tanay':20,'yaman':22, 'atul':24, 'tapan':34}\n",
    "for item in age_dict.items():\n",
    "    print(item)"
   ]
  },
  {
   "cell_type": "code",
   "execution_count": 12,
   "metadata": {},
   "outputs": [
    {
     "name": "stdout",
     "output_type": "stream",
     "text": [
      "the age  of tanay : 20\n",
      "the age  of yaman : 22\n",
      "the age  of atul : 24\n",
      "the age  of tapan : 34\n"
     ]
    }
   ],
   "source": [
    "age_dict = {'tanay':20,'yaman':22, 'atul':24, 'tapan':34}\n",
    "for person,age in age_dict.items():\n",
    "    print(f'the age  of {person} : {age}')"
   ]
  },
  {
   "cell_type": "code",
   "execution_count": 2,
   "metadata": {},
   "outputs": [
    {
     "name": "stdout",
     "output_type": "stream",
     "text": [
      "Name : yaman\n",
      "the age of yaman is 22\n",
      "Name : jayesh\n",
      "the age of jayesh is -1\n"
     ]
    }
   ],
   "source": [
    "age_dict = {'tanay':20,'yaman':22, 'atul':24, 'tapan':34}\n",
    "per_name = input(\"Name : \")\n",
    "print(f\"the age of {per_name} is {age_dict.get(per_name,-1)}\")#get(key,default) return ae of 22\n",
    "per_name = input(\"Name : \")\n",
    "print(f\"the age of {per_name} is {age_dict.get(per_name,-1)}\")#return deault -1"
   ]
  },
  {
   "cell_type": "code",
   "execution_count": 4,
   "metadata": {},
   "outputs": [
    {
     "name": "stdout",
     "output_type": "stream",
     "text": [
      "{'a': 2, 'b': 4, 'c': 6, 'd': 8, 'e': 10}\n"
     ]
    }
   ],
   "source": [
    "# dictionary comprehension\n",
    "d1 = {'a':1,'b':2,'c':3,'d':4,'e':5}\n",
    "double = {k:v*2 for (k,v) in d1.items()}\n",
    "print(double)"
   ]
  },
  {
   "cell_type": "code",
   "execution_count": 6,
   "metadata": {},
   "outputs": [
    {
     "name": "stdout",
     "output_type": "stream",
     "text": [
      "{'bb': 4, 'dd': 16, 'ff': 36, 'hh': 64}\n"
     ]
    }
   ],
   "source": [
    "d1 = {'a':1,'b':2,'c':3,'d':4,'e':5,'f':6,'g':7,'h':8}\n",
    "doubleven = {k*2:v**2 for (k,v) in d1.items() if v%2==0}\n",
    "print(doubleven)"
   ]
  },
  {
   "cell_type": "code",
   "execution_count": 8,
   "metadata": {},
   "outputs": [
    {
     "name": "stdout",
     "output_type": "stream",
     "text": [
      "{0: 0, 2: 4, 4: 16, 6: 36, 8: 64}\n"
     ]
    }
   ],
   "source": [
    "number = range(10)\n",
    "dict1 = {n:n**2 for n in number if n%2==0} \n",
    "print(dict1)"
   ]
  },
  {
   "cell_type": "code",
   "execution_count": null,
   "metadata": {},
   "outputs": [],
   "source": []
  }
 ],
 "metadata": {
  "kernelspec": {
   "display_name": "Python 3",
   "language": "python",
   "name": "python3"
  },
  "language_info": {
   "codemirror_mode": {
    "name": "ipython",
    "version": 3
   },
   "file_extension": ".py",
   "mimetype": "text/x-python",
   "name": "python",
   "nbconvert_exporter": "python",
   "pygments_lexer": "ipython3",
   "version": "3.7.6"
  }
 },
 "nbformat": 4,
 "nbformat_minor": 4
}
