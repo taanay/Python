{
 "cells": [
  {
   "cell_type": "code",
   "execution_count": 1,
   "metadata": {},
   "outputs": [
    {
     "name": "stdout",
     "output_type": "stream",
     "text": [
      "helloworld\n"
     ]
    }
   ],
   "source": [
    "# ninja(function)\n",
    "def hello_world():\n",
    "    print(\"helloworld\")\n",
    "hello_world()"
   ]
  },
  {
   "cell_type": "code",
   "execution_count": 2,
   "metadata": {},
   "outputs": [
    {
     "name": "stdout",
     "output_type": "stream",
     "text": [
      "Hello tanay patidar\n"
     ]
    }
   ],
   "source": [
    "# ninja(function with parameters)\n",
    "def parameters(first,last):\n",
    "    print(f\"Hello {first} {last}\")\n",
    "parameters(\"tanay\",\"patidar\")"
   ]
  },
  {
   "cell_type": "code",
   "execution_count": 3,
   "metadata": {},
   "outputs": [
    {
     "name": "stdout",
     "output_type": "stream",
     "text": [
      "Enter the name : tanay\n",
      "Enter the time : night\n",
      "Good night tanay,hope you are well\n"
     ]
    }
   ],
   "source": [
    "# ninja\n",
    "def parameters(name,time):\n",
    "    print(f'Good {time} {name},hope you are well')\n",
    "x = input(\"Enter the name : \")#name\n",
    "y = input(\"Enter the time : \")#time\n",
    "parameters(x,y)#(name,time)"
   ]
  },
  {
   "cell_type": "code",
   "execution_count": 5,
   "metadata": {},
   "outputs": [
    {
     "name": "stdout",
     "output_type": "stream",
     "text": [
      "Enter the name : \n",
      "Enter the time : \n",
      "Good morning tanay,hope you are well\n"
     ]
    }
   ],
   "source": [
    "# ninja(default variables)\n",
    "def parameters(name='tanay',time='morning'):\n",
    "    print(f'Good {time} {name},hope you are well')\n",
    "parameters()\n",
    "#if didn't enter any parameter it will take default name(tanay) and default time(morning)"
   ]
  },
  {
   "cell_type": "code",
   "execution_count": 6,
   "metadata": {},
   "outputs": [
    {
     "name": "stdout",
     "output_type": "stream",
     "text": [
      "Good morning yaman,hope you are well\n"
     ]
    }
   ],
   "source": [
    "# ninja(default variables)\n",
    "def parameters(name='tanay',time='morning'):\n",
    "    print(f'Good {time} {name},hope you are well')\n",
    "parameters(name=\"yaman\")"
   ]
  },
  {
   "cell_type": "code",
   "execution_count": 8,
   "metadata": {},
   "outputs": [
    {
     "name": "stdout",
     "output_type": "stream",
     "text": [
      "Enter the radius : 5\n",
      "78.5\n"
     ]
    }
   ],
   "source": [
    "# ninja(area of circle)\n",
    "def area(radius):\n",
    "    print(3.14*radius*radius)\n",
    "radius = int(input(\"Enter the radius : \"))\n",
    "area(radius)"
   ]
  },
  {
   "cell_type": "code",
   "execution_count": 5,
   "metadata": {
    "scrolled": true
   },
   "outputs": [
    {
     "name": "stdout",
     "output_type": "stream",
     "text": [
      "Enter the radius : 2\n",
      "Enter the length : 2\n",
      "The volume of cylinder is : 25.12\n"
     ]
    }
   ],
   "source": [
    "# ninja(volume of cylinder using 'return')\n",
    "def area(radius):\n",
    "    ar = 3.14*radius*radius\n",
    "    return ar #it return the value of ar to 'area(radius)'\n",
    "def vol(area,length):\n",
    "    volume = area*length\n",
    "    print(f'The volume of cylinder is : {volume}')\n",
    "radius = int(input(\"Enter the radius : \"))\n",
    "length = int(input(\"Enter the length : \"))\n",
    "area(radius)\n",
    "vol(area(radius),length)"
   ]
  },
  {
   "cell_type": "code",
   "execution_count": 1,
   "metadata": {},
   "outputs": [
    {
     "name": "stdout",
     "output_type": "stream",
     "text": [
      "your name is tanay\n"
     ]
    }
   ],
   "source": [
    "# *args function\n",
    "def my_fun(*name):\n",
    "    print(f\"your name is {name[0]}\")\n",
    "my_fun(\"tanay\",\"yaman\",\"manish\")"
   ]
  },
  {
   "cell_type": "code",
   "execution_count": 7,
   "metadata": {},
   "outputs": [
    {
     "name": "stdout",
     "output_type": "stream",
     "text": [
      "your last name is patidar\n"
     ]
    }
   ],
   "source": [
    "# **kwargs function\n",
    "def my_fun(**name):\n",
    "    print(f\"your last name is {name['lname']}\")\n",
    "my_fun(fname=\"tanay\",lname=\"patidar\")"
   ]
  },
  {
   "cell_type": "code",
   "execution_count": 9,
   "metadata": {},
   "outputs": [
    {
     "name": "stdout",
     "output_type": "stream",
     "text": [
      "Enter the length : 4\n",
      "Enter the bridth : 5\n",
      "20\n"
     ]
    }
   ],
   "source": [
    "# simple return function\n",
    "def area(length,bridth):\n",
    "    ar = length *bridth \n",
    "    return ar\n",
    "l = int(input(\"Enter the length : \"))\n",
    "b = int(input(\"Enter the bridth : \"))\n",
    "area(l,b)\n",
    "\n",
    "print(area(l,b))"
   ]
  },
  {
   "cell_type": "code",
   "execution_count": 8,
   "metadata": {},
   "outputs": [
    {
     "name": "stdout",
     "output_type": "stream",
     "text": [
      "the number is 1\n"
     ]
    }
   ],
   "source": [
    "import random\n",
    "\n",
    "def getnumber(number):\n",
    "    if number == 1:\n",
    "        return 'the number is 1'\n",
    "    elif number == 2:\n",
    "        return 'the number is 2'\n",
    "    elif number == 3:\n",
    "        return 'the number is 3'\n",
    "    elif number == 4:\n",
    "        return 'the number is 4'\n",
    "    elif number == 5:\n",
    "        return 'number is 5'\n",
    "    \n",
    "number = random.randint(1,5)\n",
    "pick = getnumber(number)\n",
    "print(pick)"
   ]
  },
  {
   "cell_type": "code",
   "execution_count": 15,
   "metadata": {},
   "outputs": [
    {
     "name": "stdout",
     "output_type": "stream",
     "text": [
      "this is global variable inside function hello\n",
      "this is global variable outside function hello\n"
     ]
    }
   ],
   "source": [
    "# global variable\n",
    "a = 'hello'\n",
    "def glob():\n",
    "    print('this is global variable inside function :',a)\n",
    "glob()\n",
    "print('this is global variable outside function',a)"
   ]
  },
  {
   "cell_type": "code",
   "execution_count": 17,
   "metadata": {},
   "outputs": [
    {
     "name": "stdout",
     "output_type": "stream",
     "text": [
      "this is local variable world\n"
     ]
    }
   ],
   "source": [
    "# local variable \n",
    "def loc():\n",
    "    b=\"world\"\n",
    "    print(\"this is local variable\",b)\n",
    "loc()\n",
    "# print('local variable cannot be use outside of scope',b)"
   ]
  },
  {
   "cell_type": "code",
   "execution_count": 3,
   "metadata": {},
   "outputs": [
    {
     "name": "stdout",
     "output_type": "stream",
     "text": [
      "20\n",
      "outside : 20\n"
     ]
    }
   ],
   "source": [
    "# global prefix\n",
    "num = 30\n",
    "def func1():\n",
    "    global num  #using this we the num outside can be override bu num inside\n",
    "    num = 20\n",
    "    print('inside :',num)\n",
    "func1()\n",
    "print('outside :',num)\n",
    "\n",
    "# num = 30\n",
    "# def func2():  \n",
    "#     print(number) #error coz oudise cannot be used inside\n",
    "# func2() "
   ]
  },
  {
   "cell_type": "code",
   "execution_count": 1,
   "metadata": {
    "scrolled": true
   },
   "outputs": [
    {
     "name": "stdout",
     "output_type": "stream",
     "text": [
      "I am currently thinkng of a number\n",
      "Try to guess a number between 1-20!\n",
      "Please enter a number : 30\n",
      "The Number you guess is too Low\n",
      "Try to guess a number between 1-20!\n",
      "Please enter a number : 40\n",
      "The Number you guess is too Low\n",
      "Try to guess a number between 1-20!\n",
      "Please enter a number : 45\n",
      "The Number you guess is too Low\n",
      "Try to guess a number between 1-20!\n",
      "Please enter a number : 49\n",
      "Congratulation you guessed Correct number !\n"
     ]
    }
   ],
   "source": [
    "# guess a number game\n",
    "import random \n",
    "\n",
    "def num_code():\n",
    "    global guess\n",
    "    for num in range(1,6):\n",
    "        print(\"Try to guess a number between 1-50!\")\n",
    "        guess = int(input(\"Please enter a number : \"))\n",
    "        \n",
    "        if guess < secret_number:\n",
    "            print(\"The Number you guess is too Low\")\n",
    "        elif guess > secret_number:\n",
    "            print(\"The Number you guess is too High\")\n",
    "        else:\n",
    "            break\n",
    "    return guess\n",
    "\n",
    "def check(guess,secret_number):\n",
    "    if guess == secret_number : \n",
    "        print(\"Congratulation you guessed Correct number !\")\n",
    "    else :\n",
    "        print(f\"Better luck Next time the correct nnumber is {secret_number} \")\n",
    "    \n",
    "secret_number = random.randint(1,50)\n",
    "print(\"I am currently thinkng of a number\")\n",
    "\n",
    "num_code()\n",
    "check(guess,secret_number)\n",
    "\n"
   ]
  },
  {
   "cell_type": "code",
   "execution_count": 19,
   "metadata": {},
   "outputs": [
    {
     "name": "stdout",
     "output_type": "stream",
     "text": [
      "Please press 'x' to exit the program\n",
      "Enter the Radius of Circle : 4\n",
      "The area of circle is : 50.240\n",
      "Enter the Radius of Circle : 45\n",
      "The area of circle is : 6358.500\n",
      "Enter the Radius of Circle : x\n"
     ]
    }
   ],
   "source": [
    "# Calculating area of circle\n",
    "print(\"Please press 'x' to exit the program\")\n",
    "\n",
    "def cal_ar(rad):\n",
    "    radius = float(rad)\n",
    "    area = 3.14 * radius * radius\n",
    "    print(f\"The area of circle is : {area:.3f}\")\n",
    "    \n",
    "while True:\n",
    "    rad = input(\"Enter the Radius of Circle : \")\n",
    "    if rad =='x':\n",
    "        break\n",
    "    cal_ar(rad)"
   ]
  },
  {
   "cell_type": "code",
   "execution_count": 5,
   "metadata": {},
   "outputs": [
    {
     "name": "stdout",
     "output_type": "stream",
     "text": [
      "Enter the string : tanay patidar\n",
      "Reversed string is : raditap yanat\n"
     ]
    }
   ],
   "source": [
    "# program to reverse a string\n",
    "def reverse(string):\n",
    "    print(\"Reversed string is :\",string[::-1])\n",
    "    \n",
    "inputed_string = input(\"Enter the string : \")\n",
    "reverse(inputed_string)"
   ]
  },
  {
   "cell_type": "code",
   "execution_count": 8,
   "metadata": {},
   "outputs": [
    {
     "name": "stdout",
     "output_type": "stream",
     "text": [
      "Enter the Number you want to check : 234\n",
      "The number is even!\n"
     ]
    }
   ],
   "source": [
    "# even and odd prgram\n",
    "def even_odd(num):\n",
    "    if (num % 2 == 0) :\n",
    "        print(\"The number is even!\")\n",
    "    else :\n",
    "        print(\"The number is odd!\")\n",
    "number = int(input(\"Enter the Number you want to check : \"))\n",
    "even_odd(number)"
   ]
  },
  {
   "cell_type": "code",
   "execution_count": 35,
   "metadata": {},
   "outputs": [
    {
     "name": "stdout",
     "output_type": "stream",
     "text": [
      "Please enter x to exit the program !\n",
      "Please Enter the String to remove vowels : patidar tanay\n",
      "Removing Vowels....\n",
      "The New String after removing vowels is : ptidr tny\n"
     ]
    }
   ],
   "source": [
    "# Removing Vowels from a string\n",
    "def remove_vowels(string):\n",
    "    vowels = ('a','e','i','o','u')\n",
    "    for ch in string.lower():\n",
    "        if ch in vowels:\n",
    "            newstr = string.replace(ch,'')\n",
    "    return newstr\n",
    "            \n",
    "print(\"Please enter x to exit the program !\")\n",
    "string = input(\"Please Enter the String to remove vowels : \")\n",
    "if string == 'x':\n",
    "    exit()\n",
    "else:\n",
    "    print(\"Removing Vowels....\")\n",
    "    newstr = remove_vowels(string)\n",
    "    print(f\"The New String after removing vowels is : {newstr}\")\n",
    "       "
   ]
  },
  {
   "cell_type": "code",
   "execution_count": null,
   "metadata": {},
   "outputs": [],
   "source": []
  }
 ],
 "metadata": {
  "kernelspec": {
   "display_name": "Python 3",
   "language": "python",
   "name": "python3"
  },
  "language_info": {
   "codemirror_mode": {
    "name": "ipython",
    "version": 3
   },
   "file_extension": ".py",
   "mimetype": "text/x-python",
   "name": "python",
   "nbconvert_exporter": "python",
   "pygments_lexer": "ipython3",
   "version": "3.7.6"
  }
 },
 "nbformat": 4,
 "nbformat_minor": 4
}
